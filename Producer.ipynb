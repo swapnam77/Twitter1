{
  "nbformat": 4,
  "nbformat_minor": 0,
  "metadata": {
    "colab": {
      "name": "Producer.ipynb",
      "provenance": [],
      "collapsed_sections": []
    },
    "kernelspec": {
      "name": "python3",
      "display_name": "Python 3"
    },
    "language_info": {
      "name": "python"
    }
  },
  "cells": [
    {
      "cell_type": "code",
      "metadata": {
        "id": "WcBdVoa056Af"
      },
      "source": [
        "#pip install kafka-python\n",
        "#conda install -c conda-forge kafka-python\n",
        "from kafka import KafkaProducer\n",
        "from time import sleep\n",
        "import json\n",
        "from datatime import datatime"
      ],
      "execution_count": null,
      "outputs": []
    },
    {
      "cell_type": "code",
      "metadata": {
        "id": "3Mvykb337Rbx"
      },
      "source": [
        "#By default it take JSON Serializer\n",
        "producer=KafkaProducer(bootstrap_servers=['localhost:9092',api_version=(0,10,1)])"
      ],
      "execution_count": null,
      "outputs": []
    },
    {
      "cell_type": "code",
      "metadata": {
        "id": "eNmgRa088RLi"
      },
      "source": [
        "#Topic name is Youtube\n",
        "producer.send('youtube','b Hello','Kafka')"
      ],
      "execution_count": null,
      "outputs": []
    },
    {
      "cell_type": "code",
      "metadata": {
        "id": "yDjHjh8l9Dwh"
      },
      "source": [
        "<kafka.producer.future.Future.RecordMetadata at 0x10a69aa50>\n"
      ],
      "execution_count": null,
      "outputs": []
    },
    {
      "cell_type": "code",
      "metadata": {
        "id": "xd4GBuCT9jtR"
      },
      "source": [
        "now=datetime.now()\n",
        "now"
      ],
      "execution_count": null,
      "outputs": []
    },
    {
      "cell_type": "code",
      "metadata": {
        "id": "y9_3Tvfv9un8"
      },
      "source": [
        "datetime.datetime(2020,3,5,15,10,41,23,62883)"
      ],
      "execution_count": null,
      "outputs": []
    },
    {
      "cell_type": "code",
      "metadata": {
        "id": "enHRUnbX-BHd"
      },
      "source": [
        "current_time=now.strftime(\"%d %m %Y %H %M %S\")\n",
        "currentr_time"
      ],
      "execution_count": null,
      "outputs": []
    },
    {
      "cell_type": "code",
      "metadata": {
        "id": "kvItq_zWM1ZN"
      },
      "source": [
        "for i in range(10):\n",
        "  message=\"Message{}\".format(str(datetime.now().time()))\n",
        "  producer.send('youtube',json.dumps(message).encode('utf-8'))\n",
        "  sleep(2)\n",
        "  print(\"Message sent\" , i)\n",
        "  "
      ],
      "execution_count": null,
      "outputs": []
    },
    {
      "cell_type": "code",
      "metadata": {
        "id": "yXJZ90qbO36x"
      },
      "source": [
        "#producer.close()"
      ],
      "execution_count": null,
      "outputs": []
    }
  ]
}